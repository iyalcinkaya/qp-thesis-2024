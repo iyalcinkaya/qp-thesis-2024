{
 "cells": [
  {
   "cell_type": "markdown",
   "metadata": {},
   "source": [
    "<div style=\"display: flex;\">\n",
    "  <div style=\"flex: 1; padding: 8px;\">\n",
    "    <h1>Grover Algorithm</h1>\n",
    "    Prepared by Iskender Yalcinkaya\n",
    "  </div>\n",
    "  <div style=\"flex: 1; text-align: right; padding: 8px;\">\n",
    "    <img src=\"./logos/logo-cvut.jpg\" alt=\"LOGO-CVUT\" width=\"200\" align=\"right\">\n",
    "    <img src=\"./logos/logo-fjfi.png\" alt=\"LOGO-FJFI\" width=\"100\" align=\"right\">\n",
    "  </div>\n",
    "</div>"
   ]
  }
 ],
 "metadata": {
  "language_info": {
   "name": "python"
  }
 },
 "nbformat": 4,
 "nbformat_minor": 2
}
