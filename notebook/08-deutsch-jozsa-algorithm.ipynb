{
 "cells": [
  {
   "cell_type": "markdown",
   "metadata": {},
   "source": [
    "<div style=\"display: flex;\">\n",
    "  <div style=\"flex: 1; padding: 8px;\">\n",
    "    <h1>Deutsch-Jozsa Algorithm</h1>\n",
    "    Prepared by Iskender Yalcinkaya\n",
    "  </div>\n",
    "  <div style=\"flex: 1; text-align: right; padding: 8px;\">\n",
    "    <img src=\"./logos/logo-cvut.jpg\" alt=\"LOGO-CVUT\" width=\"200\" align=\"right\">\n",
    "    <img src=\"./logos/logo-fjfi.png\" alt=\"LOGO-FJFI\" width=\"100\" align=\"right\">\n",
    "  </div>\n",
    "</div>"
   ]
  },
  {
   "cell_type": "code",
   "execution_count": 2,
   "id": "e2b3a493",
   "metadata": {},
   "outputs": [],
   "source": [
    "from qiskit import QuantumCircuit, Aer, execute, transpile, assemble\n",
    "from qiskit.visualization import plot_histogram, plot_bloch_multivector\n",
    "from numpy.random import randint\n",
    "import numpy as np\n",
    "import math\n",
    "np.random.seed()"
   ]
  },
  {
   "cell_type": "markdown",
   "id": "610cdc16",
   "metadata": {},
   "source": [
    "### Deutsch algorithm"
   ]
  },
  {
   "cell_type": "markdown",
   "id": "87dd2c02",
   "metadata": {},
   "source": [
    "We would like to implement the Deutsch algorithm involving a main qubit <code>q[0]</code> and ancilla <code>q[1]</code>.\n",
    "\n",
    "**Task 1:** Below the function F1 is given. It represents the first quantum oracle $F_1=X$.  Define the other oracle functions $F_2$ and $F_3$ similarly.\n",
    "\n",
    "*Note 1:* These functions will be called and employed by other pieces of code later on.\n",
    "\n",
    "*Note 2:* You will not create a quantum circuit here. You will just modify <code>qc</code> quantum circuit paramater passed via <code>def</code> as given in the example.\n",
    "\n",
    "*Note 3*: We do not need to define $F_0=I$.\n"
   ]
  },
  {
   "cell_type": "code",
   "execution_count": 11,
   "id": "31a8f076",
   "metadata": {},
   "outputs": [],
   "source": [
    "def F1(qc):  # Function F1 takes qc as an argument, where qc is a quantum circuit\n",
    "  qc.x(1)    # Function F1 adds an X gate to the given quantum circuit qc.  \n",
    "             # Note that we do not need to call any \"return\" function. The argument qc will be modified by F1 function\n",
    "    \n",
    "# Your code goes here. Do not change anything above this line."
   ]
  },
  {
   "cell_type": "markdown",
   "id": "e73415b7",
   "metadata": {},
   "source": [
    " **Task 2:** Write a <code>blackBox(qc)</code>function which adds one of the four possible quantum oracles ($F_0$, $F_1$, $F_2$, $F_3$) to a quantum circuit <code>qc</code>, randomly. You will employ the functions defined in Task 1. \n",
    " \n",
    "*Note:* To call a function, you can simply use, <code>function_name(argument)</code>. For example, to call <code>F1</code> function with argument <code>qc</code>, we simply use <code>F1(qc)</code>. Calling <code>F1(qc)</code> will automatically add $X$ oracle into <code>qc</code>."
   ]
  },
  {
   "cell_type": "code",
   "execution_count": 5,
   "id": "a7b61583",
   "metadata": {},
   "outputs": [],
   "source": [
    "def blackBox(qc):  # Function blackbox(qc) takes qc as an argument, where qc is a quantum circuit\n",
    "  \n",
    "  rnd = randint(4) # 0,1 and 2,3 correspond to constant and balanced functions, respectively.\n",
    "  qc.barrier()\n",
    "  \n",
    "  # Your code goes here. Do not change any code above or below this line.\n",
    "  \n",
    "  qc.barrier() # This barrier is added to make the quantum circuit look better."
   ]
  },
  {
   "cell_type": "markdown",
   "id": "165315c3",
   "metadata": {},
   "source": [
    "**Task 3:** By using the <code>blackbox(qc)</code> function defined in Task 2, construct a full Deutsch algorithm circuit involving the appropriate measurement. Do not run (simulate) or draw your circuit yet.\n",
    "\n",
    "*Note:* You may run this code many times to obtain a Deutsch circuit with a random oracle each time."
   ]
  },
  {
   "cell_type": "code",
   "execution_count": 13,
   "id": "b6dd3370",
   "metadata": {},
   "outputs": [],
   "source": [
    "# Your code goes here."
   ]
  },
  {
   "cell_type": "markdown",
   "id": "086e534d",
   "metadata": {},
   "source": [
    "**Task 4:** Run your circuit for 1000 shots, print the measurement results and draw the circuit.  "
   ]
  },
  {
   "cell_type": "code",
   "execution_count": 14,
   "id": "6210c129",
   "metadata": {},
   "outputs": [],
   "source": [
    "# Your code goes here."
   ]
  },
  {
   "cell_type": "markdown",
   "id": "8a1474dd",
   "metadata": {},
   "source": [
    "**Task 5:** Run the codes you wrote in Assignments 2c and 2d many times to verify that your measurement results and circuit diagrams are compatible. You don't need to write something for this task."
   ]
  }
 ],
 "metadata": {
  "kernelspec": {
   "display_name": "Python 3 (ipykernel)",
   "language": "python",
   "name": "python3"
  },
  "language_info": {
   "codemirror_mode": {
    "name": "ipython",
    "version": 3
   },
   "file_extension": ".py",
   "mimetype": "text/x-python",
   "name": "python",
   "nbconvert_exporter": "python",
   "pygments_lexer": "ipython3",
   "version": "3.10.1"
  }
 },
 "nbformat": 4,
 "nbformat_minor": 5
}
