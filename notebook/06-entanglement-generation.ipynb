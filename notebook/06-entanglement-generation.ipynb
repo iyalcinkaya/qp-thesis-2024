{
 "cells": [
  {
   "cell_type": "markdown",
   "metadata": {},
   "source": [
    "<div style=\"display: flex;\">\n",
    "  <div style=\"flex: 1; padding: 8px;\">\n",
    "    <h1>Entanglement Generation</h1>\n",
    "    Prepared by Iskender Yalcinkaya\n",
    "  </div>\n",
    "  <div style=\"flex: 1; text-align: right; padding: 8px;\">\n",
    "    <img src=\"./logos/logo-cvut.jpg\" alt=\"LOGO-CVUT\" width=\"200\" align=\"right\">\n",
    "    <img src=\"./logos/logo-fjfi.png\" alt=\"LOGO-FJFI\" width=\"100\" align=\"right\">\n",
    "  </div>\n",
    "</div>"
   ]
  },
  {
   "cell_type": "markdown",
   "metadata": {},
   "source": [
    "Entanglement generation is crutial in quantum computation for it is used in many quantum algorithms and quantum communication. As an example, the Bell state $\\left|\\Phi^+\\right>$ can be obtained by using a combination of single- and two-qubit gates as follows: "
   ]
  },
  {
   "cell_type": "code",
   "execution_count": 2,
   "metadata": {},
   "outputs": [
    {
     "name": "stdout",
     "output_type": "stream",
     "text": [
      "{'11': 504, '00': 520}\n"
     ]
    },
    {
     "data": {
      "image/png": "[encoded data removed]",
      "text/plain": [
       "<Figure size 502.593x284.278 with 1 Axes>"
      ]
     },
     "execution_count": 2,
     "metadata": {},
     "output_type": "execute_result"
    }
   ],
   "source": [
    "from qiskit import QuantumRegister, ClassicalRegister, QuantumCircuit, execute, Aer\n",
    "\n",
    "q = QuantumRegister(2,\"qreg\")\n",
    "c = ClassicalRegister(2,\"creg\")\n",
    "\n",
    "qc = QuantumCircuit(q,c)\n",
    "qc.h(q[0])\n",
    "qc.cnot(q[0],q[1])\n",
    "\n",
    "qc.measure(q[0],c[0])\n",
    "qc.measure(q[1],c[1])\n",
    "\n",
    "job = execute(qc,Aer.get_backend('qasm_simulator'),shots=1024)\n",
    "counts = job.result().get_counts(qc)\n",
    "print(counts)\n",
    "qc.draw(output='mpl')\n"
   ]
  },
  {
   "cell_type": "markdown",
   "metadata": {},
   "source": [
    "**Task:** Write Qiskit codes for constructing the other Bell states $\\left|\\Phi^-\\right>$,$\\left|\\Psi^+\\right>$, and $\\left|\\Phi^-\\right>$. Draw the circuit diagrams, and verify your results."
   ]
  },
  {
   "cell_type": "code",
   "execution_count": null,
   "metadata": {},
   "outputs": [],
   "source": [
    "# Your code goes here"
   ]
  }
 ],
 "metadata": {
  "kernelspec": {
   "display_name": "qiskit",
   "language": "python",
   "name": "python3"
  },
  "language_info": {
   "codemirror_mode": {
    "name": "ipython",
    "version": 3
   },
   "file_extension": ".py",
   "mimetype": "text/x-python",
   "name": "python",
   "nbconvert_exporter": "python",
   "pygments_lexer": "ipython3",
   "version": "3.11.6"
  }
 },
 "nbformat": 4,
 "nbformat_minor": 2
}
