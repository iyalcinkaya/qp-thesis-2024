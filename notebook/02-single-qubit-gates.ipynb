{
 "cells": [
  {
   "cell_type": "markdown",
   "metadata": {},
   "source": [
    "<div style=\"display: flex;\">\n",
    "  <div style=\"flex: 1; padding: 8px;\">\n",
    "    <h1>Single Qubit Gates</h1>\n",
    "    Prepared by Iskender Yalcinkaya\n",
    "  </div>\n",
    "  <div style=\"flex: 1; text-align: right; padding: 8px;\">\n",
    "    <img src=\"./logos/logo-cvut.jpg\" alt=\"LOGO-CVUT\" width=\"200\" align=\"right\">\n",
    "    <img src=\"./logos/logo-fjfi.png\" alt=\"LOGO-FJFI\" width=\"100\" align=\"right\">\n",
    "  </div>\n",
    "</div>\n"
   ]
  },
  {
   "cell_type": "markdown",
   "metadata": {},
   "source": [
    "The single qubit gates are the quantum operators acting on single qubits. In this section, we will consider a couple of single qubit gates, and we will see more of them in the next sections."
   ]
  },
  {
   "cell_type": "markdown",
   "metadata": {},
   "source": [
    "### NOT ($X$) operator"
   ]
  },
  {
   "cell_type": "markdown",
   "metadata": {},
   "source": [
    "The NOT (or, equivalently, Pauli-X) operator $X$ flips the qubits as follows:\n",
    "\n",
    "$$\n",
    "X\\left|0\\right>=\\left|1\\right> \\\\\n",
    "X\\left|1\\right>=\\left|0\\right>\n",
    "$$\n",
    "In the matrix form, X operator is written as\n",
    "$$\n",
    "X=\\left(\\begin{array}{cc} \n",
    "0 & 1\\\\\n",
    "1 & 0\n",
    "\\end{array}\\right).\n",
    "\n",
    "$$ \n",
    "In qiskit, the NOT operator is a the function of the quantum circuit object, denoted by x(q[#]), where # represents the qubit number.\n",
    "\n",
    "**To implement the NOT operator, we need to specify it during we design the quantum circuit.**"
   ]
  },
  {
   "cell_type": "markdown",
   "metadata": {},
   "source": [
    "### Implementation and collection of outcome statistics after the application of $X$ gate in Qiskit"
   ]
  },
  {
   "cell_type": "markdown",
   "metadata": {},
   "source": [
    "The following code implements $X$ gate in Qiskit: "
   ]
  },
  {
   "cell_type": "code",
   "execution_count": null,
   "metadata": {},
   "outputs": [
    {
     "name": "stdout",
     "output_type": "stream",
     "text": [
      "{'1': 1024}\n"
     ]
    },
    {
     "data": {
      "image/png": "[encoded data removed]",
      "text/plain": [
       "<Figure size 317.14x200.667 with 1 Axes>"
      ]
     },
     "metadata": {},
     "output_type": "display_data"
    }
   ],
   "source": [
    "from qiskit import QuantumRegister, ClassicalRegister, QuantumCircuit, execute, Aer\n",
    "\n",
    "q = QuantumRegister(1,\"qreg\")\n",
    "c = ClassicalRegister(1,\"creg\")\n",
    "\n",
    "qc = QuantumCircuit(q,c)\n",
    "qc.x(q[0])\n",
    "qc.measure(q[0],c[0])\n",
    "\n",
    "job = execute(qc,Aer.get_backend('qasm_simulator'),shots=1024)\n",
    "counts = job.result().get_counts(qc)\n",
    "print(counts)\n",
    "qc.draw(output='mpl')"
   ]
  },
  {
   "cell_type": "markdown",
   "metadata": {},
   "source": [
    "### Pauli-$Z$, and Pauli-$Y$ gates"
   ]
  },
  {
   "cell_type": "markdown",
   "metadata": {},
   "source": [
    "The Pauli-$Z$ gate (or, equivalently, the phase gate) operates on a single qubit as follows:\n",
    "\n",
    "$$\n",
    "\\begin{aligned}\n",
    "Z\\left|0\\right>&=\\left|0\\right> \\\\\n",
    "Z\\left|1\\right>&=-\\left|1\\right>\n",
    "\\end{aligned}\n",
    "$$\n",
    "\n",
    "In the matrix form, Z operator is written as\n",
    "$$\n",
    "Z=\\left(\\begin{array}{cc} \n",
    "1 & 0\\\\\n",
    "0 & -1\n",
    "\\end{array}\\right)\n",
    "$$\n",
    "\n",
    "The Pauli-$Y$ gate (or, equivalently, the phase gate) operates on a single qubit as follows:\n",
    "\n",
    "$$\n",
    "\\begin{aligned}\n",
    "Y\\left|0\\right>&=i\\left|1\\right> \\\\\n",
    "Y\\left|1\\right>&=-i\\left|0\\right>\n",
    "\\end{aligned}\n",
    "$$\n",
    "\n",
    "In the matrix form, Y operator is written as\n",
    "$$\n",
    "Y=\\left(\\begin{array}{cc} \n",
    "0 & -i\\\\\n",
    "i & 0\n",
    "\\end{array}\\right)\n",
    "$$\n",
    "\n",
    "In qiskit, the Pauli-Z and Pauli-Y gates are implemented exacly in the same way the Pauli-X gate is implemented, denoted by x(q[#]); we simply replace `qc.x(q[0])` with `qc.z(q[0])` or `qc.y(q[0])` according to our need."
   ]
  },
  {
   "cell_type": "markdown",
   "metadata": {},
   "source": [
    "### Hadamard (H) gate"
   ]
  },
  {
   "cell_type": "markdown",
   "metadata": {},
   "source": [
    "Hadamard gate plays a very important role in quantum computation. One of the uses of this operator is to create a superposition out of computational basis as follows:\n",
    "\n",
    "$$\n",
    "\\begin{aligned}\n",
    "H\\left|0\\right>&= \\frac{1}{\\sqrt{2}} \\left[  \\left|0\\right> + \\left|1\\right> \\right]\\\\\n",
    "H\\left|1\\right>&= \\frac{1}{\\sqrt{2}} \\left[  \\left|0\\right> - \\left|1\\right> \\right]\n",
    "\\end{aligned}\n",
    "$$\n",
    "\n",
    "In the matrix form, H operator is written as\n",
    "\n",
    "$$\n",
    "H=\\frac{1}{\\sqrt{2}}\\left(\\begin{array}{cc} \n",
    "1 & 1\\\\\n",
    "1 & -1\n",
    "\\end{array}\\right)\n",
    "$$\n",
    "\n",
    "In Qiskit, the Hadamard gate is implemented as `qc.h(q[0])`."
   ]
  },
  {
   "cell_type": "markdown",
   "metadata": {},
   "source": [
    "**Task 1:**\n",
    "Create a quantum circuit with 2 qubits and 2 classical register. Apply an Z- and a Y-gate to the zeroth qubit register consequtively. Then, apply an Hadamard operator to the first qubit register. Finally, write the measurement result from the 0th (1st) qubit register to the 0th (1st) classical qubit register."
   ]
  },
  {
   "cell_type": "code",
   "execution_count": null,
   "metadata": {},
   "outputs": [],
   "source": [
    "# Your code goes here"
   ]
  },
  {
   "cell_type": "markdown",
   "metadata": {},
   "source": [
    "### Assignments"
   ]
  },
  {
   "cell_type": "markdown",
   "metadata": {},
   "source": [
    "**1)** Write two seperate qiskit codes doing the following operations: (i)$H\\left|0\\right>$ and (ii) $H\\left|1\\right>$. Draw the circuits, collect the measurement statistics and interpret the results. In which way do you think the $H$ gate transforms the states  $\\left|0\\right>$ and $\\left|1\\right>$?"
   ]
  },
  {
   "cell_type": "code",
   "execution_count": null,
   "metadata": {},
   "outputs": [],
   "source": [
    "# Your code goes here"
   ]
  },
  {
   "cell_type": "markdown",
   "metadata": {},
   "source": [
    "**2)** Write three seperate qiskit codes doing the operations: (i)$Z\\left|1\\right>$, (ii) $HZH\\left|1\\right>$ and (iii) $HH\\left|1\\right>$. Draw all circuits, collect their measurement statistics and interpret the results. What is the role of $Z$ gate in each case?"
   ]
  },
  {
   "cell_type": "code",
   "execution_count": null,
   "metadata": {},
   "outputs": [],
   "source": [
    "# Your code goes here"
   ]
  }
 ],
 "metadata": {
  "language_info": {
   "name": "python"
  }
 },
 "nbformat": 4,
 "nbformat_minor": 2
}
