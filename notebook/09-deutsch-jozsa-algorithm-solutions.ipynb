{
 "cells": [
  {
   "cell_type": "markdown",
   "id": "f0d5032f",
   "metadata": {},
   "source": [
    "## Deutsch Algorithm with a single qubit"
   ]
  },
  {
   "cell_type": "markdown",
   "id": "c2c4e88c",
   "metadata": {},
   "source": [
    "We would like to simulate Deutsch algorithm with a single qubit.\n",
    "\n",
    "**Assignment 1.a:** Write a function which returns a Deutsch algorithm circuit involing one of the four possible oracle transformations ($I,-I,\\sigma_z,-\\sigma_z$) randomly. Do not forget to measure the qubit at the end.\n",
    "\n",
    "Hint: You can obtain $-I$ with a combination of $\\sigma_x$'s and $\\sigma_z$'s. Or, you are free to find some other way."
   ]
  },
  {
   "cell_type": "code",
   "execution_count": 2,
   "id": "de0544e7",
   "metadata": {},
   "outputs": [],
   "source": [
    "def randomDeutschCircuit():\n",
    "  \n",
    "  qc  = QuantumCircuit(1,1) # We involve an additional classical bit for readout purposes.\n",
    "  rnd = randint(4)          # 0,1 and 2,3 correspond to constant and balanced functions, respectively.\n",
    "  \n",
    "  \n",
    "  # Your code goes here - do not alter any code above or below this line\n",
    "  \n",
    "  #******** My solution ********#\n",
    "  qc.h(0)\n",
    "  qc.barrier()\n",
    "  if rnd == 1:\n",
    "    qc.z(0)\n",
    "    qc.x(0)\n",
    "    qc.z(0)\n",
    "    qc.x(0)\n",
    "  if rnd == 2:\n",
    "    qc.z(0)\n",
    "  if rnd == 3:\n",
    "    qc.x(0)\n",
    "    qc.z(0)\n",
    "    qc.x(0)\n",
    "  qc.barrier()\n",
    "  qc.h(0)\n",
    "  qc.measure(0,0)\n",
    "  #****************************#\n",
    "  \n",
    "  return qc, rnd"
   ]
  },
  {
   "cell_type": "markdown",
   "id": "94abe247",
   "metadata": {},
   "source": [
    "**Assignment 1.b:** Run the circuit 1000 times and print the counts. You can run the below code repetitively to see whether your results makes sense. Are your readout results correctly predict the type of the oracle?"
   ]
  },
  {
   "cell_type": "code",
   "execution_count": 3,
   "id": "c9fd33b5",
   "metadata": {},
   "outputs": [
    {
     "name": "stdout",
     "output_type": "stream",
     "text": [
      "{'0': 1000}\n",
      "Oracle is constant.\n"
     ]
    },
    {
     "data": {
      "image/png": "[encoded data removed]",
      "text/plain": [
       "<Figure size 374.326x144.48 with 1 Axes>"
      ]
     },
     "execution_count": 3,
     "metadata": {},
     "output_type": "execute_result"
    }
   ],
   "source": [
    "rndCirc, rndNum = randomDeutschCircuit()\n",
    "\n",
    "# Your code goes here - do not alter any code above or below this line\n",
    "\n",
    "#******** My solution ********#\n",
    "job = execute(rndCirc,Aer.get_backend('qasm_simulator'),shots=1000)\n",
    "counts = job.result().get_counts(rndCirc)\n",
    "print(counts)\n",
    "#****************************#\n",
    "\n",
    "if rndNum == 0 or rndNum == 1:\n",
    "  print(\"Oracle is constant.\")\n",
    "else:\n",
    "  print(\"Oracle is balanced.\")  \n",
    "rndCirc.draw(output='mpl')\n",
    " "
   ]
  },
  {
   "cell_type": "markdown",
   "id": "11c17695",
   "metadata": {},
   "source": [
    "## Simulation of Deutsch algorithm"
   ]
  },
  {
   "cell_type": "markdown",
   "id": "a5be17b5",
   "metadata": {},
   "source": [
    "We would like to implement the Deutsch algorithm involving a main qubit <code>q[0]</code> and ancilla <code>q[1]</code>.\n",
    "\n",
    "**Assignment 2a:** Below the function F1 is given. It represents the first quantum oracle $F_1=X$.  Define the other oracle functions $F_2$ and $F_3$ similarly.\n",
    "\n",
    "*Note 1:* These functions will be called and employed by other pieces of code later on.\n",
    "\n",
    "*Note 2*: We do not need to define $F_0=I$.\n"
   ]
  },
  {
   "cell_type": "code",
   "execution_count": 4,
   "id": "8c7a8ef4",
   "metadata": {},
   "outputs": [],
   "source": [
    "def F1(qc):  # Function F1 takes qc as an argument, where qc is a quantum circuit\n",
    "  qc.x(1)    # Function F1 adds an X gate to the given quantum circuit qc.  \n",
    "             # Note that we do not need to call any \"return\" function. The argument qc will be modified by F1 function\n",
    "    \n",
    "    \n",
    "# Your code goes here. Do not change anything above this line.\n",
    "  \n",
    "def F2(qc):\n",
    "  qc.x(0)\n",
    "  qc.cx(0,1)\n",
    "  qc.x(0)\n",
    "\n",
    "def F3(qc):\n",
    "  qc.cx(0,1)"
   ]
  },
  {
   "cell_type": "markdown",
   "id": "7c481b2b",
   "metadata": {},
   "source": [
    " **Assignment 2b:** Write a <code>blackBox(qc)</code>function which adds one of the four possible quantum oracles ($F_0$, $F_1$, $F_2$, $F_3$) to a quantum circuit <code>qc</code>, randomly. You will employ the functions defined in Assignment 2a. \n",
    " \n",
    "*Note:* To call a function, you can simply use, <code>function_name(argument)</code>. For example, to call <code>F1</code> function with argument <code>qc</code>, we simply use <code>F1(qc)</code>."
   ]
  },
  {
   "cell_type": "code",
   "execution_count": 5,
   "id": "54d69991",
   "metadata": {},
   "outputs": [],
   "source": [
    "def blackBox(qc):  # Function blackbox(qc) takes qc as an argument, where qc is a quantum circuit\n",
    "  \n",
    "  rnd = randint(4) # 0,1 and 2,3 correspond to constant and balanced functions, respectively.\n",
    "\n",
    "  qc.barrier()\n",
    "  \n",
    "  # Your code goes here. Do not change any code above or below this line.\n",
    "  if rnd == 1: F1(qc)\n",
    "  if rnd == 2: F2(qc)\n",
    "  if rnd == 3: F3(qc)\n",
    "  qc.barrier()\n"
   ]
  },
  {
   "cell_type": "markdown",
   "id": "b91a1c83",
   "metadata": {},
   "source": [
    "**Assignment 2c:** By using the <code>blackbox(qc)</code> function defined in Assignment 2b, construct a full Deutsch algorithm circuit involving the appropriate measurement. Do not run (simulate) or draw your circuit yet.\n",
    "\n",
    "*Note:* You may run this code many times to obtain a Deutsch circuit with a random oracle each time."
   ]
  },
  {
   "cell_type": "code",
   "execution_count": 22,
   "id": "8df71d5a",
   "metadata": {},
   "outputs": [
    {
     "data": {
      "text/plain": [
       "<qiskit.circuit.instructionset.InstructionSet at 0x220728c9790>"
      ]
     },
     "execution_count": 22,
     "metadata": {},
     "output_type": "execute_result"
    }
   ],
   "source": [
    "# Your code goes here.\n",
    "\n",
    "qc  = QuantumCircuit(2,1) \n",
    "qc.x(1)\n",
    "qc.h(0)\n",
    "qc.h(1)\n",
    "blackBox(qc)\n",
    "qc.h(0)\n",
    "qc.measure(0,0)"
   ]
  },
  {
   "cell_type": "markdown",
   "id": "9d157af7",
   "metadata": {},
   "source": [
    "**Assignment 2d:** Run your circuit for 1000 shots, print the measurement results and draw the circuit.  "
   ]
  },
  {
   "cell_type": "code",
   "execution_count": 23,
   "id": "70e85061",
   "metadata": {},
   "outputs": [
    {
     "name": "stdout",
     "output_type": "stream",
     "text": [
      "{'1': 1000}\n"
     ]
    },
    {
     "data": {
      "image/png": "[encoded data removed]",
      "text/plain": [
       "<Figure size 507.852x204.68 with 1 Axes>"
      ]
     },
     "execution_count": 23,
     "metadata": {},
     "output_type": "execute_result"
    }
   ],
   "source": [
    "job = execute(qc,Aer.get_backend('qasm_simulator'),shots=1000)\n",
    "counts = job.result().get_counts(qc)\n",
    "print(counts)\n",
    "qc.draw(output='mpl')"
   ]
  },
  {
   "cell_type": "markdown",
   "id": "86d957b7",
   "metadata": {},
   "source": [
    "**Assignment 2e:** Run the codes you wrote in Assignments 2c and 2d many times to verify that your measurement results and circuit diagrams are compatible. You don't need to write something for this assignment."
   ]
  },
  {
   "cell_type": "markdown",
   "id": "6ce7cdcf",
   "metadata": {},
   "source": [
    "## Realization of phase kickback"
   ]
  },
  {
   "cell_type": "markdown",
   "id": "8b983c5e",
   "metadata": {},
   "source": [
    "Here, we would like to verify an observable effect of phase kickback."
   ]
  },
  {
   "cell_type": "markdown",
   "id": "73b00d33",
   "metadata": {},
   "source": [
    "**Assignment 1a:** Construct the following circuit and simulate it for 1000 shots. Print your measurement statistics.\n",
    "\n",
    "<img src=\"QPRG-class09-fig1.png\">"
   ]
  },
  {
   "cell_type": "code",
   "execution_count": 24,
   "id": "225250c3",
   "metadata": {},
   "outputs": [
    {
     "name": "stdout",
     "output_type": "stream",
     "text": [
      "{'1': 1000}\n"
     ]
    },
    {
     "data": {
      "image/png": "[encoded data removed]",
      "text/plain": [
       "<Figure size 447.652x204.68 with 1 Axes>"
      ]
     },
     "execution_count": 24,
     "metadata": {},
     "output_type": "execute_result"
    }
   ],
   "source": [
    "#Your code goes here\n",
    "\n",
    "qc  = QuantumCircuit(2,1) \n",
    "qc.x(1)\n",
    "qc.barrier()\n",
    "qc.h(0)\n",
    "qc.h(1)\n",
    "qc.cx(0,1)\n",
    "qc.h(0)\n",
    "qc.measure(0,0)\n",
    "job = execute(qc,Aer.get_backend('qasm_simulator'),shots=1000)\n",
    "counts = job.result().get_counts(qc)\n",
    "print(counts)\n",
    "qc.draw(output='mpl')"
   ]
  },
  {
   "cell_type": "markdown",
   "id": "1d890e05",
   "metadata": {},
   "source": [
    "**Assignment 1b:** Remove the CX gate and repeat Assignment 1a. What has changed in your measurement results? Explain how CX gate affects <code>q[0]</code>."
   ]
  },
  {
   "cell_type": "code",
   "execution_count": 25,
   "id": "c1f2182b",
   "metadata": {},
   "outputs": [
    {
     "name": "stdout",
     "output_type": "stream",
     "text": [
      "{'0': 1000}\n"
     ]
    },
    {
     "data": {
      "image/png": "[encoded data removed]",
      "text/plain": [
       "<Figure size 387.452x204.68 with 1 Axes>"
      ]
     },
     "execution_count": 25,
     "metadata": {},
     "output_type": "execute_result"
    }
   ],
   "source": [
    "#Your code goes here\n",
    "\n",
    "qc  = QuantumCircuit(2,1) \n",
    "qc.x(1)\n",
    "qc.barrier()\n",
    "qc.h(0)\n",
    "qc.h(1)\n",
    "#qc.cx(0,1)\n",
    "qc.h(0)\n",
    "qc.measure(0,0)\n",
    "job = execute(qc,Aer.get_backend('qasm_simulator'),shots=1000)\n",
    "counts = job.result().get_counts(qc)\n",
    "print(counts)\n",
    "qc.draw(output='mpl')"
   ]
  },
  {
   "cell_type": "code",
   "execution_count": null,
   "id": "28123ff5",
   "metadata": {},
   "outputs": [],
   "source": []
  }
 ],
 "metadata": {
  "kernelspec": {
   "display_name": "Python 3 (ipykernel)",
   "language": "python",
   "name": "python3"
  },
  "language_info": {
   "codemirror_mode": {
    "name": "ipython",
    "version": 3
   },
   "file_extension": ".py",
   "mimetype": "text/x-python",
   "name": "python",
   "nbconvert_exporter": "python",
   "pygments_lexer": "ipython3",
   "version": "3.10.1"
  }
 },
 "nbformat": 4,
 "nbformat_minor": 5
}
