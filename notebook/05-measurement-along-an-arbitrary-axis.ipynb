{
 "cells": [
  {
   "cell_type": "markdown",
   "metadata": {},
   "source": [
    "## Performing a measurement along an arbitrary axis"
   ]
  },
  {
   "cell_type": "markdown",
   "metadata": {},
   "source": [
    "Qiskit only allows measuring in the Z-basis. To make a measurement along other axes, we need to change our 'measurement perspective' with unitary rotations. Let us make a measurement along $\\hat{n}=\\frac{1}{\\sqrt{2}}\\left(\\hat{x}+\\hat{z}\\right)$, which specifies our measurement direction on the Bloch Sphere, and calculate the expectation value of our measurement from the measurement statistics. Note that $\\hat{n}$ lies on the $xz$ plane having angle of $\\pi/4$ from the $z$ axis. Therefore, we need to consider a rotation about $y$ axis by an angle $\\pi/4$ before the measurement."
   ]
  },
  {
   "cell_type": "code",
   "execution_count": 2,
   "metadata": {},
   "outputs": [
    {
     "name": "stdout",
     "output_type": "stream",
     "text": [
      "Measurement stats: {'0': 484, '1': 540}\n",
      "Probabilities: {'0': 0.47265625, '1': 0.52734375}\n",
      "Expectation value: -0.0546875\n"
     ]
    },
    {
     "data": {
      "image/png": "[encoded data removed]",
      "text/plain": [
       "<Figure size 281.083x200.667 with 1 Axes>"
      ]
     },
     "execution_count": 2,
     "metadata": {},
     "output_type": "execute_result"
    }
   ],
   "source": [
    "from qiskit import QuantumRegister, ClassicalRegister, QuantumCircuit, execute, Aer\n",
    "from math import pi\n",
    "\n",
    "iter=1024\n",
    "\n",
    "q = QuantumRegister(1,\"qr\")\n",
    "c = ClassicalRegister(1,\"cr\")\n",
    "\n",
    "qc = QuantumCircuit(q,c)\n",
    "qc.ry(pi/2,0)\n",
    "\n",
    "qc.measure(0,0)\n",
    "\n",
    "job = execute(qc,Aer.get_backend('qasm_simulator'),shots=iter)\n",
    "counts = job.result().get_counts(qc)\n",
    "\n",
    "probs = {}\n",
    "for i in ['0','1']:  # Calculate the probabilities from measurement statistics\n",
    "  probs[i] = counts[i]/iter\n",
    "  \n",
    "expn=probs['0']*(+1)+probs['1']*(-1) # Expectation value of the measurement along n\n",
    "\n",
    "print(\"Measurement stats:\",counts)\n",
    "print(\"Probabilities:\",probs)\n",
    "print(\"Expectation value:\",expn)\n",
    "qc.draw(output='mpl')"
   ]
  }
 ],
 "metadata": {
  "kernelspec": {
   "display_name": "qiskit",
   "language": "python",
   "name": "python3"
  },
  "language_info": {
   "codemirror_mode": {
    "name": "ipython",
    "version": 3
   },
   "file_extension": ".py",
   "mimetype": "text/x-python",
   "name": "python",
   "nbconvert_exporter": "python",
   "pygments_lexer": "ipython3",
   "version": "3.11.6"
  }
 },
 "nbformat": 4,
 "nbformat_minor": 2
}
