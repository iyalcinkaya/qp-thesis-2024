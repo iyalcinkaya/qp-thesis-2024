{
 "cells": [
  {
   "cell_type": "markdown",
   "metadata": {},
   "source": [
    "<div style=\"display: flex;\">\n",
    "  <div style=\"flex: 1; padding: 8px;\">\n",
    "    <h1>Phase Kickback</h1>\n",
    "    Prepared by Iskender Yalcinkaya\n",
    "  </div>\n",
    "  <div style=\"flex: 1; text-align: right; padding: 8px;\">\n",
    "    <img src=\"./logos/logo-cvut.jpg\" alt=\"LOGO-CVUT\" width=\"200\" align=\"right\">\n",
    "    <img src=\"./logos/logo-fjfi.png\" alt=\"LOGO-FJFI\" width=\"100\" align=\"right\">\n",
    "  </div>\n",
    "</div>"
   ]
  },
  {
   "cell_type": "markdown",
   "metadata": {},
   "source": [
    "Phase kickback plays a very important role in quantum algorithms. Here, we would like to verify an observable effect of phase kickback."
   ]
  },
  {
   "cell_type": "markdown",
   "metadata": {},
   "source": [
    "\n",
    "**Task 1:** Construct the following circuit and simulate it for 1000 shots. Print your measurement statistics.\n",
    "\n",
    "<img src=\"./figures/07-phase-kickback.png\">"
   ]
  },
  {
   "cell_type": "code",
   "execution_count": null,
   "metadata": {},
   "outputs": [],
   "source": [
    "# Your code goes here"
   ]
  },
  {
   "cell_type": "markdown",
   "metadata": {},
   "source": [
    "**Task 2:** Remove the CX gate and repeat Task 1. What has changed in your measurement results? Explain how CX gate affects <code>q[0]</code>, and your measurement results accordingly."
   ]
  },
  {
   "cell_type": "code",
   "execution_count": null,
   "metadata": {},
   "outputs": [],
   "source": [
    "# Your code goes here"
   ]
  }
 ],
 "metadata": {
  "kernelspec": {
   "display_name": "qiskit",
   "language": "python",
   "name": "python3"
  },
  "language_info": {
   "name": "python",
   "version": "3.11.6"
  }
 },
 "nbformat": 4,
 "nbformat_minor": 2
}
