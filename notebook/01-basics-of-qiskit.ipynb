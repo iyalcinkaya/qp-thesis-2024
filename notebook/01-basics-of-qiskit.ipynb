{
 "cells": [
  {
   "cell_type": "markdown",
   "metadata": {},
   "source": [
    "<div style=\"display: flex;\">\n",
    "  <div style=\"flex: 1; padding: 8px;\">\n",
    "    <h1>Basics of Qiskit</h1>\n",
    "    Prepared by Iskender Yalcinkaya\n",
    "  </div>\n",
    "  <div style=\"flex: 1; text-align: right; padding: 8px;\">\n",
    "    <img src=\"./logos/logo-cvut.jpg\" alt=\"LOGO-CVUT\" width=\"200\" align=\"right\">\n",
    "    <img src=\"./logos/logo-fjfi.png\" alt=\"LOGO-FJFI\" width=\"100\" align=\"right\">\n",
    "  </div>\n",
    "</div>\n"
   ]
  },
  {
   "cell_type": "markdown",
   "metadata": {},
   "source": [
    "### Initialization of a quantum circuit"
   ]
  },
  {
   "cell_type": "markdown",
   "metadata": {},
   "source": [
    "Below is the minimal code to set up a simple quantum circuit with one qubit, together with a classical register where the results of quantum measurements (zero, or one) are written."
   ]
  },
  {
   "cell_type": "code",
   "execution_count": 1,
   "metadata": {},
   "outputs": [
    {
     "data": {
      "text/plain": [
       "<qiskit.circuit.instructionset.InstructionSet at 0x2aa6069be20>"
      ]
     },
     "execution_count": 1,
     "metadata": {},
     "output_type": "execute_result"
    }
   ],
   "source": [
    "from qiskit import QuantumRegister, ClassicalRegister, QuantumCircuit # import required objects to create a quantum circuit in qiskit\n",
    "\n",
    "q = QuantumRegister(1,\"qreg\") # one quantum register named qreg\n",
    "c = ClassicalRegister(1,\"creg\") # one classical register named creg\n",
    "\n",
    "qc = QuantumCircuit(q,c) # creates a quantum circuit with qreg and creg\n",
    "qc.measure(q[0],c[0]) # measures q[0] and the observed value is stored in c[0]; (quantum) bits are enumerated starting from 0"
   ]
  },
  {
   "cell_type": "markdown",
   "metadata": {},
   "source": [
    "**Caution:** Even though we call the function `qc.measure(q[0],c[0])`, this does not mean that we have actually made a measurement. We are still at the stage of designing the circuit and this circuit will be executed later on."
   ]
  },
  {
   "cell_type": "markdown",
   "metadata": {},
   "source": [
    "**Task 1:**\n",
    "Create a quantum circuit with 3 qubits and 2 classical register, where the measurement result for the 0th (1st) qubit is written to 1st (0th) classical register. "
   ]
  },
  {
   "cell_type": "code",
   "execution_count": 2,
   "metadata": {},
   "outputs": [],
   "source": [
    "# Your code goes here"
   ]
  },
  {
   "cell_type": "markdown",
   "metadata": {},
   "source": [
    "### Visualization of the quantum circuit"
   ]
  },
  {
   "cell_type": "markdown",
   "metadata": {},
   "source": [
    "Below code draws the quantum circuit designed. The parameter `output='mpl'` is optional. It makes use of matplotlib library to make the quantum circuit look better. "
   ]
  },
  {
   "cell_type": "code",
   "execution_count": 2,
   "metadata": {},
   "outputs": [
    {
     "data": {
      "image/png": "[encoded data removed]",
      "text/plain": [
       "<Figure size 233.529x200.667 with 1 Axes>"
      ]
     },
     "execution_count": 2,
     "metadata": {},
     "output_type": "execute_result"
    }
   ],
   "source": [
    "qc.draw(output='mpl') # it employs matplotlib"
   ]
  },
  {
   "cell_type": "markdown",
   "metadata": {},
   "source": [
    "**Task 2:**\n",
    "Write the line of code which draws the circuit without taking the advantage of `matplotlib` library."
   ]
  },
  {
   "cell_type": "code",
   "execution_count": null,
   "metadata": {},
   "outputs": [],
   "source": [
    "# Your code goes here"
   ]
  },
  {
   "cell_type": "markdown",
   "metadata": {},
   "source": [
    "### Execution of the quantum circuit"
   ]
  },
  {
   "cell_type": "markdown",
   "metadata": {},
   "source": [
    "Aer is a quantum circuit simulator in qiskit library. In `execute(...)` function we need to specify which quantum circuit we want to simulate, which simulator we want to employ and how many times we need to run out quantum circuit."
   ]
  },
  {
   "cell_type": "code",
   "execution_count": 7,
   "metadata": {},
   "outputs": [],
   "source": [
    "from qiskit import execute, Aer\n",
    "\n",
    "job = execute(qc,Aer.get_backend('qasm_simulator'),shots=1024)"
   ]
  },
  {
   "cell_type": "markdown",
   "metadata": {},
   "source": [
    "### Collecting outcome statistics"
   ]
  },
  {
   "cell_type": "code",
   "execution_count": 8,
   "metadata": {},
   "outputs": [
    {
     "name": "stdout",
     "output_type": "stream",
     "text": [
      "{'0': 1024}\n"
     ]
    }
   ],
   "source": [
    "# we can get the result of the outcome as follows\n",
    "counts = job.result().get_counts(qc)\n",
    "print(counts) # counts is a dictionary"
   ]
  }
 ],
 "metadata": {
  "kernelspec": {
   "display_name": "Python 3",
   "language": "python",
   "name": "python3"
  },
  "language_info": {
   "codemirror_mode": {
    "name": "ipython",
    "version": 3
   },
   "file_extension": ".py",
   "mimetype": "text/x-python",
   "name": "python",
   "nbconvert_exporter": "python",
   "pygments_lexer": "ipython3",
   "version": "3.11.6"
  }
 },
 "nbformat": 4,
 "nbformat_minor": 4
}
